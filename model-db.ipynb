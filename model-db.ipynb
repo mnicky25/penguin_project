{
  "cells": [
    {
      "cell_type": "raw",
      "metadata": {},
      "source": [
        "---\n",
        "title: \"Model\"\n",
        "format:\n",
        "  html:\n",
        "    code-fold: true\n",
        "---"
      ],
      "id": "63287a9c"
    },
    {
      "cell_type": "code",
      "metadata": {},
      "source": [
        "import duckdb\n",
        "from pandas import get_dummies\n",
        "import numpy as np\n",
        "from sklearn.linear_model import LinearRegression\n",
        "from sklearn import preprocessing"
      ],
      "id": "041dc0c5",
      "execution_count": null,
      "outputs": []
    },
    {
      "cell_type": "markdown",
      "metadata": {},
      "source": [
        "## Get Data\n"
      ],
      "id": "31d15461"
    },
    {
      "cell_type": "code",
      "metadata": {},
      "source": [
        "con = duckdb.connect('my-db.duckdb')\n",
        "df = con.execute(\"SELECT * FROM penguins\").fetchdf().dropna()\n",
        "con.close()\n",
        "\n",
        "df.head(3)"
      ],
      "id": "7194cb52",
      "execution_count": null,
      "outputs": []
    },
    {
      "cell_type": "markdown",
      "metadata": {},
      "source": [
        "## Define Model and Fit\n"
      ],
      "id": "bdb39bf4"
    },
    {
      "cell_type": "code",
      "metadata": {},
      "source": [
        "X = get_dummies(df[['bill_length_mm', 'species', 'sex']], drop_first = True)\n",
        "y = df['body_mass_g']\n",
        "\n",
        "model = LinearRegression().fit(X, y)"
      ],
      "id": "5f8b431e",
      "execution_count": null,
      "outputs": []
    },
    {
      "cell_type": "markdown",
      "metadata": {},
      "source": [
        "## Convert to a Vetiver Model\n"
      ],
      "id": "88a1b523"
    },
    {
      "cell_type": "code",
      "metadata": {},
      "source": [
        "from vetiver import VetiverModel\n",
        "V = VetiverModel(model, model_name = \"penguin_model\", prototype_data = X)"
      ],
      "id": "79216d8e",
      "execution_count": null,
      "outputs": []
    },
    {
      "cell_type": "markdown",
      "metadata": {},
      "source": [
        "## Save to Board\n"
      ],
      "id": "8f8eaee7"
    },
    {
      "cell_type": "code",
      "metadata": {},
      "source": [
        "import pins\n",
        "from vetiver import vetiver_pin_write\n",
        "\n",
        "# Create or specify a board to pin your model\n",
        "board = pins.board_folder('board', allow_pickle_read=True)\n",
        "\n",
        "# Assuming you want to write the model to a pin\n",
        "vetiver_pin_write(board, V)"
      ],
      "id": "e74a63a4",
      "execution_count": null,
      "outputs": []
    },
    {
      "cell_type": "markdown",
      "metadata": {},
      "source": [
        "## Turn Model Into API\n"
      ],
      "id": "ae92487d"
    },
    {
      "cell_type": "code",
      "metadata": {},
      "source": [
        "from vetiver import VetiverAPI\n",
        "app = VetiverAPI(V, check_prototype = True)"
      ],
      "id": "3558b01e",
      "execution_count": null,
      "outputs": []
    },
    {
      "cell_type": "markdown",
      "metadata": {},
      "source": [
        "## Prepare Docker\n"
      ],
      "id": "3823b99f"
    },
    {
      "cell_type": "code",
      "metadata": {},
      "source": [
        "from vetiver import prepare_docker\n",
        "prepare_docker(model_board, \"penguin_model\")"
      ],
      "id": "ba3d53ed",
      "execution_count": null,
      "outputs": []
    },
    {
      "cell_type": "markdown",
      "metadata": {},
      "source": [
        "## Get some information\n"
      ],
      "id": "26a48b0f"
    },
    {
      "cell_type": "code",
      "metadata": {},
      "source": [
        "print(f\"R^2 {model.score(X,y)}\")\n",
        "print(f\"Intercept {model.intercept_}\")\n",
        "print(f\"Columns {X.columns}\")\n",
        "print(f\"Coefficients {model.coef_}\")"
      ],
      "id": "e57797fd",
      "execution_count": null,
      "outputs": []
    }
  ],
  "metadata": {
    "kernelspec": {
      "display_name": "Python 3",
      "language": "python",
      "name": "python3"
    }
  },
  "nbformat": 4,
  "nbformat_minor": 5
}